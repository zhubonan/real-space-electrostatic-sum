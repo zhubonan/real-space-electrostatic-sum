{
 "cells": [
  {
   "cell_type": "code",
   "execution_count": 1,
   "metadata": {},
   "outputs": [],
   "source": [
    "import numpy as np\n",
    "from matplotlib import pyplot as plt\n",
    "import real_space_electrostatic_sum"
   ]
  },
  {
   "cell_type": "markdown",
   "metadata": {},
   "source": [
    "# Benchmarking\n",
    "\n",
    "Using the shared library `real-space-electrostatic-sum.so`, together with the Python wrapper in `real_space_electrostatic_sum.py`, this notebook reproduces results from [Pickard, *Phys. Rev. Mat.* **2**, 013806 (2018)](https://doi.org/10.1103/PhysRevMaterials.2.013806)."
   ]
  },
  {
   "cell_type": "markdown",
   "metadata": {},
   "source": [
    "## Reproducing part of Fig. 1(b)\n",
    "\n",
    "Fig. 1(b) in the paper demonstrates the convergence of the real-space method for a simple cubic lattice with unit spacing."
   ]
  },
  {
   "cell_type": "code",
   "execution_count": 2,
   "metadata": {},
   "outputs": [
    {
     "data": {
      "image/png": "[encoded data removed]",
      "text/plain": [
       "<Figure size 432x288 with 1 Axes>"
      ]
     },
     "metadata": {
      "needs_background": "light"
     },
     "output_type": "display_data"
    }
   ],
   "source": [
    "# lattice vectors\n",
    "a_1 = np.array([1.0, 0.0, 0.0])\n",
    "a_2 = np.array([0.0, 1.0, 0.0])\n",
    "a_3 = np.array([0.0, 0.0, 1.0])\n",
    "\n",
    "# ion locations and charge array\n",
    "loc = np.zeros([1,3])\n",
    "chg = np.ones(1)\n",
    "\n",
    "# loop over cutoff radii\n",
    "r_c = np.linspace(0.001,30,500)\n",
    "r_d = 1.5\n",
    "ene = np.zeros(len(r_c))\n",
    "for i, r in enumerate(r_c):\n",
    "    ene[i] = real_space_electrostatic_sum.energy(\n",
    "            a_1, a_2, a_3, loc.shape[0], loc[:,0], loc[:,1], loc[:,2], chg, r, r_d)\n",
    "    \n",
    "# generate part of Fig. 1(b)\n",
    "plt.plot(r_c, ene, 'r')\n",
    "plt.title('Fig. 1(b)')\n",
    "plt.xlim([0,30]); plt.ylim([-1.5,-1.25])\n",
    "plt.xlabel('$R_c$');  plt.ylabel('$E_i$')\n",
    "plt.show()"
   ]
  },
  {
   "cell_type": "markdown",
   "metadata": {},
   "source": [
    "## Reproducing data in Table I\n",
    "\n",
    "Table I in the paper contains ion-ion energies for four crystals obtained with the real-space method, as well as the Ewald method. The real-space method data are re-generated here, exhibiting near perfect agreement with Table I. The Ewald energies reported below were re-obtained with CASTEP using the exact lattice parameters employed here."
   ]
  },
  {
   "cell_type": "markdown",
   "metadata": {},
   "source": [
    "### _Al_"
   ]
  },
  {
   "cell_type": "code",
   "execution_count": 3,
   "metadata": {},
   "outputs": [
    {
     "name": "stdout",
     "output_type": "stream",
     "text": [
      "Ewald:       energy = -2.695954574\n",
      "R̂d = 2.0:    energy = -2.695954574\n",
      "R̂d = 1.5:    energy = -2.695954574\n",
      "R̂d = 1.0:    energy = -2.696027958\n"
     ]
    }
   ],
   "source": [
    "# lattice vectors\n",
    "a_1 = np.array([5.41141973394663, 0.00000000000000, 0.00000000000000])\n",
    "a_2 = np.array([2.70570986697332, 4.68642696013821, 0.00000000000000])\n",
    "a_3 = np.array([2.70570986697332, 1.56214232004608, 4.41840571073226])\n",
    "\n",
    "# ion locations\n",
    "loc = np.zeros([1,3])\n",
    "\n",
    "# charge array\n",
    "chg = 3.0 * np.ones(loc.shape[0])\n",
    "\n",
    "# length scale\n",
    "h_max = 4.42\n",
    "\n",
    "# reference energy\n",
    "ewald = -2.69595457432924945\n",
    "print('Ewald:       energy = {0:12.9f}'.format(-2.69595457432924945))\n",
    "\n",
    "# real-space-method energies\n",
    "r_d_hat = 2.0\n",
    "ene = real_space_electrostatic_sum.energy(\n",
    "        a_1, a_2, a_3, loc.shape[0], loc[:,0], loc[:,1], loc[:,2], chg, 3.0*r_d_hat**2*h_max, r_d_hat*h_max)\n",
    "print('R\\u0302d = {0:3.1f}:    energy = {1:12.9f}'.format(r_d_hat, ene))\n",
    "r_d_hat = 1.5\n",
    "ene = real_space_electrostatic_sum.energy(\n",
    "        a_1, a_2, a_3, loc.shape[0], loc[:,0], loc[:,1], loc[:,2], chg, 3.0*r_d_hat**2*h_max, r_d_hat*h_max)\n",
    "print('R\\u0302d = {0:3.1f}:    energy = {1:12.9f}'.format(r_d_hat, ene))\n",
    "r_d_hat = 1.0\n",
    "ene = real_space_electrostatic_sum.energy(\n",
    "        a_1, a_2, a_3, loc.shape[0], loc[:,0], loc[:,1], loc[:,2], chg, 3.0*r_d_hat**2*h_max, r_d_hat*h_max)\n",
    "print('R\\u0302d = {0:3.1f}:    energy = {1:12.9f}'.format(r_d_hat, ene))"
   ]
  },
  {
   "cell_type": "markdown",
   "metadata": {},
   "source": [
    "### _Si_"
   ]
  },
  {
   "cell_type": "code",
   "execution_count": 4,
   "metadata": {},
   "outputs": [
    {
     "name": "stdout",
     "output_type": "stream",
     "text": [
      "Ewald:       energy = -8.398574653,    per ion = -4.199287326\n",
      "R̂d = 2.0:    energy = -8.398574653,    per ion = -4.199287326\n",
      "R̂d = 1.5:    energy = -8.398574651,    per ion = -4.199287326\n",
      "R̂d = 1.0:    energy = -8.398589712,    per ion = -4.199294856\n"
     ]
    }
   ],
   "source": [
    "# lattice vectors\n",
    "a_1 = np.array([7.25654832321381, 0.00000000000000, 0.00000000000000])\n",
    "a_2 = np.array([3.62827416160690, 6.28435519169252, 0.00000000000000])\n",
    "a_3 = np.array([3.62827416160690, 2.09478506389751, 5.92494689524090])\n",
    "\n",
    "# ion locations\n",
    "loc = np.array([[0.0,  0.0,  0.0],\n",
    "                [0.25, 0.25, 0.25]])\n",
    "loc = (np.vstack((a_1, a_2, a_3)).T).dot(loc.T).T # convert to cartesian\n",
    "\n",
    "# charge array\n",
    "chg = 4.0 * np.ones(loc.shape[0])\n",
    "\n",
    "# length scale\n",
    "h_max = 5.92\n",
    "\n",
    "# reference energy\n",
    "ewald = -8.39857465282205418\n",
    "print('Ewald:       energy = {0:12.9f},    per ion = {1:12.9f}'.format(ewald, ewald/loc.shape[0]))\n",
    "\n",
    "# real-space-method energies\n",
    "r_d_hat = 2.0\n",
    "ene = real_space_electrostatic_sum.energy(\n",
    "        a_1, a_2, a_3, loc.shape[0], loc[:,0], loc[:,1], loc[:,2], chg, 3.0*r_d_hat**2*h_max, r_d_hat*h_max)\n",
    "print('R\\u0302d = {0:3.1f}:    energy = {1:12.9f},    per ion = {2:12.9f}'.format(r_d_hat, ene, ene/loc.shape[0]))\n",
    "r_d_hat = 1.5\n",
    "ene = real_space_electrostatic_sum.energy(\n",
    "        a_1, a_2, a_3, loc.shape[0], loc[:,0], loc[:,1], loc[:,2], chg, 3.0*r_d_hat**2*h_max, r_d_hat*h_max)\n",
    "print('R\\u0302d = {0:3.1f}:    energy = {1:12.9f},    per ion = {2:12.9f}'.format(r_d_hat, ene, ene/loc.shape[0]))\n",
    "r_d_hat = 1.0\n",
    "ene = real_space_electrostatic_sum.energy(\n",
    "        a_1, a_2, a_3, loc.shape[0], loc[:,0], loc[:,1], loc[:,2], chg, 3.0*r_d_hat**2*h_max, r_d_hat*h_max)\n",
    "print('R\\u0302d = {0:3.1f}:    energy = {1:12.9f},    per ion = {2:12.9f}'.format(r_d_hat, ene, ene/loc.shape[0]))"
   ]
  },
  {
   "cell_type": "markdown",
   "metadata": {},
   "source": [
    "### _SiO2_"
   ]
  },
  {
   "cell_type": "code",
   "execution_count": 5,
   "metadata": {},
   "outputs": [
    {
     "name": "stdout",
     "output_type": "stream",
     "text": [
      "Ewald:       energy = -69.488098717,    per ion = -7.720899857\n",
      "R̂d = 2.0:    energy = -69.488098717,    per ion = -7.720899857\n",
      "R̂d = 1.5:    energy = -69.488098713,    per ion = -7.720899857\n",
      "R̂d = 1.0:    energy = -69.487434045,    per ion = -7.720826005\n"
     ]
    }
   ],
   "source": [
    "# lattice vectors\n",
    "a_1 = np.array([ 9.28422445623683, 0.00000000000000, 0.00000000000000])\n",
    "a_2 = np.array([-4.64211222811842, 8.04037423353787, 0.00000000000000])\n",
    "a_3 = np.array([ 0.00000000000000, 0.00000000000000, 10.2139697101486])\n",
    "\n",
    "# ion locations\n",
    "loc = np.array([[0.41500, 0.27200, 0.21300],\n",
    "                [0.72800, 0.14300, 0.54633],\n",
    "                [0.85700, 0.58500, 0.87967],\n",
    "                [0.27200, 0.41500, 0.78700],\n",
    "                [0.14300, 0.72800, 0.45367],\n",
    "                [0.58500, 0.85700, 0.12033],\n",
    "                [0.46500, 0.00000, 0.33333],\n",
    "                [0.00000, 0.46500, 0.66667],\n",
    "                [0.53500, 0.53500, 0.00000]])\n",
    "loc = (np.vstack((a_1, a_2, a_3)).T).dot(loc.T).T # convert to cartesian\n",
    "\n",
    "# charge array\n",
    "chg = 6.0 * np.ones(loc.shape[0])  # most are O\n",
    "chg[6:] = 4.0                      # three are Si\n",
    "\n",
    "# length scale\n",
    "h_max = 10.21\n",
    "\n",
    "# reference energy\n",
    "ewald = -69.48809871723248932\n",
    "print('Ewald:       energy = {0:12.9f},    per ion = {1:12.9f}'.format(ewald, ewald/loc.shape[0]))\n",
    "\n",
    "# real-space-method energies\n",
    "r_d_hat = 2.0\n",
    "ene = real_space_electrostatic_sum.energy(\n",
    "        a_1, a_2, a_3, loc.shape[0], loc[:,0], loc[:,1], loc[:,2], chg, 3.0*r_d_hat**2*h_max, r_d_hat*h_max)\n",
    "print('R\\u0302d = {0:3.1f}:    energy = {1:12.9f},    per ion = {2:12.9f}'.format(r_d_hat, ene, ene/loc.shape[0]))\n",
    "r_d_hat = 1.5\n",
    "ene = real_space_electrostatic_sum.energy(\n",
    "        a_1, a_2, a_3, loc.shape[0], loc[:,0], loc[:,1], loc[:,2], chg, 3.0*r_d_hat**2*h_max, r_d_hat*h_max)\n",
    "print('R\\u0302d = {0:3.1f}:    energy = {1:12.9f},    per ion = {2:12.9f}'.format(r_d_hat, ene, ene/loc.shape[0]))\n",
    "r_d_hat = 1.0\n",
    "ene = real_space_electrostatic_sum.energy(\n",
    "        a_1, a_2, a_3, loc.shape[0], loc[:,0], loc[:,1], loc[:,2], chg, 3.0*r_d_hat**2*h_max, r_d_hat*h_max)\n",
    "print('R\\u0302d = {0:3.1f}:    energy = {1:12.9f},    per ion = {2:12.9f}'.format(r_d_hat, ene, ene/loc.shape[0]))"
   ]
  },
  {
   "cell_type": "markdown",
   "metadata": {},
   "source": [
    "### _Al2SiO5_"
   ]
  },
  {
   "cell_type": "code",
   "execution_count": 6,
   "metadata": {},
   "outputs": [
    {
     "name": "stdout",
     "output_type": "stream",
     "text": [
      "Ewald:       energy = -244.055008509,    per ion = -7.626719016\n",
      "R̂d = 2.0:    energy = -244.055008514,    per ion = -7.626719016\n",
      "R̂d = 1.5:    energy = -244.055008508,    per ion = -7.626719016\n",
      "R̂d = 1.0:    energy = -244.054921810,    per ion = -7.626716307\n"
     ]
    }
   ],
   "source": [
    "# lattice vectors\n",
    "a_1 = np.array([14.7289033699982, 0.00000000000000, 0.00000000000000])\n",
    "a_2 = np.array([0.00000000000000, 14.9260018049230, 0.00000000000000])\n",
    "a_3 = np.array([0.00000000000000, 0.00000000000000, 10.5049875335275])\n",
    "\n",
    "# ion locations\n",
    "loc = np.array([[0.23030, 0.13430, 0.23900],\n",
    "                [0.76970, 0.86570, 0.23900],\n",
    "                [0.26970, 0.63430, 0.26100],\n",
    "                [0.73030, 0.36570, 0.26100],\n",
    "                [0.76970, 0.86570, 0.76100],\n",
    "                [0.23030, 0.13430, 0.76100],\n",
    "                [0.73030, 0.36570, 0.73900],\n",
    "                [0.26970, 0.63430, 0.73900],\n",
    "                [0.00000, 0.00000, 0.24220],\n",
    "                [0.50000, 0.50000, 0.25780],\n",
    "                [0.00000, 0.00000, 0.75780],\n",
    "                [0.50000, 0.50000, 0.74220],\n",
    "                [0.37080, 0.13870, 0.50000],\n",
    "                [0.42320, 0.36270, 0.50000],\n",
    "                [0.62920, 0.86130, 0.50000],\n",
    "                [0.57680, 0.63730, 0.50000],\n",
    "                [0.12920, 0.63870, 0.00000],\n",
    "                [0.07680, 0.86270, 0.00000],\n",
    "                [0.87080, 0.36130, 0.00000],\n",
    "                [0.92320, 0.13730, 0.00000],\n",
    "                [0.24620, 0.25290, 0.00000],\n",
    "                [0.42400, 0.36290, 0.00000],\n",
    "                [0.10380, 0.40130, 0.00000],\n",
    "                [0.75380, 0.74710, 0.00000],\n",
    "                [0.57600, 0.63710, 0.00000],\n",
    "                [0.89620, 0.59870, 0.00000],\n",
    "                [0.25380, 0.75290, 0.50000],\n",
    "                [0.07600, 0.86290, 0.50000],\n",
    "                [0.39620, 0.90130, 0.50000],\n",
    "                [0.74620, 0.24710, 0.50000],\n",
    "                [0.92400, 0.13710, 0.50000],\n",
    "                [0.60380, 0.09870, 0.50000]])\n",
    "loc = (np.vstack((a_1, a_2, a_3)).T).dot(loc.T).T # convert to cartesian\n",
    "\n",
    "# charge array\n",
    "chg = 6.0 * np.ones(loc.shape[0])  # most are O\n",
    "chg[8:13]  = 3.0                   # eight are Al\n",
    "chg[14] = 3.0\n",
    "chg[16] = 3.0\n",
    "chg[18] = 3.0\n",
    "chg[20] = 4.0                      # four are Si\n",
    "chg[23] = 4.0\n",
    "chg[26] = 4.0\n",
    "chg[29] = 4.0\n",
    "\n",
    "# length scale\n",
    "h_max = 14.93\n",
    "\n",
    "# reference energy\n",
    "ewald = -244.05500850908111943\n",
    "print('Ewald:       energy = {0:14.9f},    per ion = {1:12.9f}'.format(ewald, ewald/loc.shape[0]))\n",
    "\n",
    "# real-space-method energies\n",
    "r_d_hat = 2.0\n",
    "ene = real_space_electrostatic_sum.energy(\n",
    "        a_1, a_2, a_3, loc.shape[0], loc[:,0], loc[:,1], loc[:,2], chg, 3.0*r_d_hat**2*h_max, r_d_hat*h_max)\n",
    "print('R\\u0302d = {0:3.1f}:    energy = {1:14.9f},    per ion = {2:12.9f}'.format(r_d_hat, ene, ene/loc.shape[0]))\n",
    "r_d_hat = 1.5\n",
    "ene = real_space_electrostatic_sum.energy(\n",
    "        a_1, a_2, a_3, loc.shape[0], loc[:,0], loc[:,1], loc[:,2], chg, 3.0*r_d_hat**2*h_max, r_d_hat*h_max)\n",
    "print('R\\u0302d = {0:3.1f}:    energy = {1:14.9f},    per ion = {2:12.9f}'.format(r_d_hat, ene, ene/loc.shape[0]))\n",
    "r_d_hat = 1.0\n",
    "ene = real_space_electrostatic_sum.energy(\n",
    "        a_1, a_2, a_3, loc.shape[0], loc[:,0], loc[:,1], loc[:,2], chg, 3.0*r_d_hat**2*h_max, r_d_hat*h_max)\n",
    "print('R\\u0302d = {0:3.1f}:    energy = {1:14.9f},    per ion = {2:12.9f}'.format(r_d_hat, ene, ene/loc.shape[0]))"
   ]
  },
  {
   "cell_type": "markdown",
   "metadata": {},
   "source": [
    "## Madelung energy for NaCl\n",
    "\n",
    "See the discussion around Eq. (1) in [Mamode, _J. Math. Chem._ __55__, 734 (2017)](https://doi.org/10.1007/s10910-016-0705-9).\n",
    "\n",
    "With $M_{\\mathrm{NaCl}}$ as the Madelung energy and $E_{\\mathrm{NaCl}}$ as the energy of a two-atom primitive cell having $z_{1,2}=\\pm 1$, the following identities hold\n",
    "\n",
    "\\begin{equation}\n",
    "\\begin{split}\n",
    "M_{\\mathrm{NaCl}} \n",
    "&= E_{\\mathrm{NaCl}} \\\\\n",
    "&= \\sum_{i\\in\\{1,2\\}} \\sum_{j\\ne i}^\\infty \\frac{z_i z_j}{2r_{ij}} \\\\\n",
    "&= \\sum_{i\\in\\{1,2\\}}\n",
    "    \\left[ \\sum_{\\substack{j\\ne i \\\\z_iz_j>0}}^\\infty \\frac{z_i z_j}{2r_{ij}} -\n",
    "            \\sum_{\\substack{j\\ne i \\\\z_iz_j<0}}^\\infty \\frac{|z_i z_j|}{2r_{ij}} \\right] \\\\\n",
    "&= \\sum_{i\\in\\{1,2\\}}\n",
    "    \\left[ 2 \\sum_{\\substack{j\\ne i \\\\z_iz_j>0}}^\\infty \\frac{z_i z_j}{2r_{ij}} -\n",
    "            \\sum_{j\\ne i}^\\infty \\frac{|z_i z_j|}{2r_{ij}} \\right] \\\\\n",
    "&= 4 E_{\\mathrm{FCC}} - \n",
    "    \\sum_{i\\in\\{1,2\\}} \\sum_{j\\ne i}^\\infty \\frac{|z_i z_j|}{2r_{ij}}\n",
    "\\end{split}\n",
    "\\end{equation}\n",
    "\n",
    "and the final result should be $M_{\\mathrm{NaCl}} = −1.747 564 594 633 \\cdots$."
   ]
  },
  {
   "cell_type": "code",
   "execution_count": 7,
   "metadata": {},
   "outputs": [
    {
     "name": "stdout",
     "output_type": "stream",
     "text": [
      "M = -1.747564594633\n"
     ]
    }
   ],
   "source": [
    "# lattice vectors\n",
    "a_1 = np.array([1.0, 1.0, 0.0])\n",
    "a_2 = np.array([0.0, 1.0, 1.0])\n",
    "a_3 = np.array([1.0, 0.0, 1.0])\n",
    "\n",
    "# length scale and cutoff\n",
    "h_max = np.sqrt(4.0/3.0)\n",
    "r_d_hat = 3.0\n",
    "\n",
    "# compute FCC energy\n",
    "loc = np.zeros([1,3])\n",
    "chg = np.ones(loc.shape[0])\n",
    "E_FCC = real_space_electrostatic_sum.energy(\n",
    "        a_1, a_2, a_3, loc.shape[0], loc[:,0], loc[:,1], loc[:,2], chg, 3.0*r_d_hat**2*h_max, r_d_hat*h_max)\n",
    "\n",
    "# compute second term\n",
    "loc = np.zeros([2,3])\n",
    "loc[1,:] = np.array([1.0, 1.0, 1.0])\n",
    "chg = np.ones(loc.shape[0])\n",
    "E_2 = real_space_electrostatic_sum.energy(\n",
    "        a_1, a_2, a_3, loc.shape[0], loc[:,0], loc[:,1], loc[:,2], chg, 3.0*r_d_hat**2*h_max, r_d_hat*h_max)\n",
    "\n",
    "# print result\n",
    "print('M = {0:15.12f}'.format(4*E_FCC - E_2))"
   ]
  }
 ],
 "metadata": {
  "kernelspec": {
   "display_name": "Python 3",
   "language": "python",
   "name": "python3"
  },
  "language_info": {
   "codemirror_mode": {
    "name": "ipython",
    "version": 3
   },
   "file_extension": ".py",
   "mimetype": "text/x-python",
   "name": "python",
   "nbconvert_exporter": "python",
   "pygments_lexer": "ipython3",
   "version": "3.7.6"
  }
 },
 "nbformat": 4,
 "nbformat_minor": 2
}
